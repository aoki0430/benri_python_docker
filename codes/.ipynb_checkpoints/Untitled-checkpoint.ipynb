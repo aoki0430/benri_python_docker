{
 "cells": [
  {
   "cell_type": "code",
   "execution_count": 2,
   "id": "6b2e67d0-29e1-4223-9251-9816faa51beb",
   "metadata": {},
   "outputs": [],
   "source": [
    "import pandas as pd\n",
    "import numpy as np\n",
    "import datetime\n",
    "from tqdm.notebook import tqdm\n",
    "from sklearn.metrics import roc_auc_score\n",
    "from sklearn.preprocessing import LabelEncoder\n",
    "import lightgbm as lgb\n",
    "import requests\n",
    "from bs4 import BeautifulSoup\n",
    "import time\n",
    "from tqdm.notebook import tqdm\n",
    "import re\n",
    "from urllib.request import urlopen\n",
    "import optuna.integration.lightgbm as lgb_o"
   ]
  },
  {
   "cell_type": "code",
   "execution_count": 4,
   "id": "14bd2c61-b6a5-46fd-a673-13e69f2cf728",
   "metadata": {},
   "outputs": [],
   "source": [
    "a = np.array(3)"
   ]
  },
  {
   "cell_type": "code",
   "execution_count": 6,
   "id": "050b4cad-9639-45c6-aee1-99112cbfa27b",
   "metadata": {},
   "outputs": [
    {
     "data": {
      "text/plain": [
       "array(3)"
      ]
     },
     "execution_count": 6,
     "metadata": {},
     "output_type": "execute_result"
    }
   ],
   "source": [
    "a\n"
   ]
  },
  {
   "cell_type": "code",
   "execution_count": null,
   "id": "b4dd16a6-cdbf-4825-bca7-99a63bd351d2",
   "metadata": {},
   "outputs": [],
   "source": []
  }
 ],
 "metadata": {
  "kernelspec": {
   "display_name": "Python 3",
   "language": "python",
   "name": "python3"
  },
  "language_info": {
   "codemirror_mode": {
    "name": "ipython",
    "version": 3
   },
   "file_extension": ".py",
   "mimetype": "text/x-python",
   "name": "python",
   "nbconvert_exporter": "python",
   "pygments_lexer": "ipython3",
   "version": "3.9.4"
  }
 },
 "nbformat": 4,
 "nbformat_minor": 5
}
